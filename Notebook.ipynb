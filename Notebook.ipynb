{
 "cells": [
  {
   "cell_type": "markdown",
   "id": "9e7e6bf0-1e0b-4a88-8ee4-8915494ca1fa",
   "metadata": {},
   "source": [
    "# Data Science Tools and Ecosystem"
   ]
  },
  {
   "cell_type": "markdown",
   "id": "1b5279cb-8345-490f-8cd7-082d50f3401b",
   "metadata": {},
   "source": [
    "In this notebook, Data Science Tools and Ecosystem are summarized."
   ]
  },
  {
   "cell_type": "markdown",
   "id": "31a458cf-1e21-4c79-95e0-396f6f0106d0",
   "metadata": {},
   "source": [
    "**Objectives**\n",
    "- Most popular languages used by Data Scientist\n",
    "- Most commonly used libraries by Data Scientist\n",
    "- Data Science Tools\n",
    "- Evaluating arithmetic expressions in Python"
   ]
  },
  {
   "cell_type": "markdown",
   "id": "e0f7166b-9fbc-4354-8eba-5aa60a5ca96c",
   "metadata": {},
   "source": [
    "Some of the most popular languages that Data Scientists use are:\n",
    "1. Python\n",
    "2. C++\n",
    "3. Java\n",
    "4. C"
   ]
  },
  {
   "cell_type": "markdown",
   "id": "8fac61fa-53e2-419e-9448-169a0160f9b7",
   "metadata": {},
   "source": [
    "Some of the commonly used libraries used by Data Scientists include:\n",
    "1. Pandas\n",
    "2. NumPy\n",
    "3. Matplotlib\n",
    "4. Seaborn"
   ]
  },
  {
   "cell_type": "markdown",
   "id": "30d8bdc8-13a7-4148-b7f3-1bcc4e4c50ee",
   "metadata": {},
   "source": [
    "|Data Science Tools|\n",
    "|------------------|\n",
    "|Python|\n",
    "|R|\n",
    "|Jupyter Notebook|"
   ]
  },
  {
   "cell_type": "markdown",
   "id": "e36bff16-662e-498b-87f1-e58dfdbd5af6",
   "metadata": {},
   "source": [
    "### Below are a few examples of evaluating arithmetic expressions in Python"
   ]
  },
  {
   "cell_type": "code",
   "execution_count": 11,
   "id": "a20d65e7-507b-42ed-ab4d-9e0fe794b500",
   "metadata": {},
   "outputs": [],
   "source": [
    "#this a simple arithmetic expression to mutiply then add integers "
   ]
  },
  {
   "cell_type": "code",
   "execution_count": 13,
   "id": "ff99c6e4-d54b-4ffc-897a-54389c19b364",
   "metadata": {},
   "outputs": [
    {
     "data": {
      "text/plain": [
       "17"
      ]
     },
     "execution_count": 13,
     "metadata": {},
     "output_type": "execute_result"
    }
   ],
   "source": [
    "(3*4)+5 "
   ]
  },
  {
   "cell_type": "code",
   "execution_count": null,
   "id": "8318215d-027a-463f-9fac-e83e002b1f55",
   "metadata": {},
   "outputs": [],
   "source": [
    "#This will convert 200 minutes to hours by diving by 60"
   ]
  },
  {
   "cell_type": "code",
   "execution_count": 15,
   "id": "24c29b03-80b6-44d7-b3f7-4095a8eaa7ac",
   "metadata": {},
   "outputs": [
    {
     "data": {
      "text/plain": [
       "3.3333333333333335"
      ]
     },
     "execution_count": 15,
     "metadata": {},
     "output_type": "execute_result"
    }
   ],
   "source": [
    "200/60"
   ]
  },
  {
   "cell_type": "markdown",
   "id": "4d13eb3d-6eb3-403d-98f7-f93b8657150d",
   "metadata": {},
   "source": [
    "## Author\n",
    "Muhammad Kevin Alwafi"
   ]
  },
  {
   "cell_type": "code",
   "execution_count": null,
   "id": "22eaee9d-af5e-43b9-b01f-f30d85cb9d6d",
   "metadata": {},
   "outputs": [],
   "source": []
  }
 ],
 "metadata": {
  "kernelspec": {
   "display_name": "Python 3 (ipykernel)",
   "language": "python",
   "name": "python3"
  },
  "language_info": {
   "codemirror_mode": {
    "name": "ipython",
    "version": 3
   },
   "file_extension": ".py",
   "mimetype": "text/x-python",
   "name": "python",
   "nbconvert_exporter": "python",
   "pygments_lexer": "ipython3",
   "version": "3.12.4"
  }
 },
 "nbformat": 4,
 "nbformat_minor": 5
}
